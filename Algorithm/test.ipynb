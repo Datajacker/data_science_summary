{
 "cells": [
  {
   "cell_type": "code",
   "execution_count": 11,
   "id": "458847a8",
   "metadata": {},
   "outputs": [],
   "source": [
    "def calculate_best_return(lis):\n",
    "    if len(lis) < 2:\n",
    "        return 0\n",
    "    else:\n",
    "        a = lis[0]\n",
    "        b = lis[1]\n",
    "        if len(lis) > 2:\n",
    "            for idx, c in enumerate(lis[2:]):\n",
    "                if a > b:\n",
    "                    a \n",
    "                if idx < len(lis[2:]):\n",
    "                    a = min(a, b, c)\n",
    "                    \n",
    "                b = max(b, c)\n",
    "        \n",
    "        if a < b:\n",
    "            return (b-a) \n",
    "        else:\n",
    "            return 0"
   ]
  },
  {
   "cell_type": "code",
   "execution_count": 45,
   "id": "db650edb",
   "metadata": {},
   "outputs": [
    {
     "name": "stdout",
     "output_type": "stream",
     "text": [
      "[23, 11, 8, 15, 28, 17, 1, 8, 11, 30, 16, 10, 23, 10, 8, 20, 7, 6, 2, 15]\n"
     ]
    }
   ],
   "source": [
    "import random\n",
    "randomlist = []\n",
    "for i in range(0,20):\n",
    "    n = random.randint(1,30)\n",
    "    randomlist.append(n)\n",
    "print(randomlist)"
   ]
  },
  {
   "cell_type": "code",
   "execution_count": 44,
   "id": "51d07263",
   "metadata": {},
   "outputs": [
    {
     "name": "stdout",
     "output_type": "stream",
     "text": [
      "[1, 2, 2, 3, 7, 7, 9, 10, 11, 11, 16, 20, 23, 25, 25, 26, 27, 27, 28, 30]\n"
     ]
    }
   ],
   "source": [
    "lis_1 = randomlist\n",
    "lis_1.sort()\n",
    "print(lis_1)"
   ]
  },
  {
   "cell_type": "code",
   "execution_count": 46,
   "id": "30478051",
   "metadata": {},
   "outputs": [
    {
     "name": "stdout",
     "output_type": "stream",
     "text": [
      "[1, 2, 6, 7, 8, 8, 8, 10, 10, 11, 11, 15, 15, 16, 17, 20, 23, 23, 28, 30]\n"
     ]
    }
   ],
   "source": [
    "lis_2 = randomlist\n",
    "lis_2.sort()\n",
    "print(lis_2)"
   ]
  },
  {
   "cell_type": "code",
   "execution_count": 47,
   "id": "289b44f4",
   "metadata": {},
   "outputs": [
    {
     "ename": "AttributeError",
     "evalue": "'list' object has no attribute 'val'",
     "output_type": "error",
     "traceback": [
      "\u001b[1;31m---------------------------------------------------------------------------\u001b[0m",
      "\u001b[1;31mAttributeError\u001b[0m                            Traceback (most recent call last)",
      "\u001b[1;32m<ipython-input-47-a38bbeac524f>\u001b[0m in \u001b[0;36m<module>\u001b[1;34m\u001b[0m\n\u001b[1;32m----> 1\u001b[1;33m \u001b[0mlis_1\u001b[0m\u001b[1;33m.\u001b[0m\u001b[0mval\u001b[0m \u001b[1;33m<\u001b[0m \u001b[0mlis_2\u001b[0m\u001b[1;33m.\u001b[0m\u001b[0mval\u001b[0m\u001b[1;33m\u001b[0m\u001b[1;33m\u001b[0m\u001b[0m\n\u001b[0m",
      "\u001b[1;31mAttributeError\u001b[0m: 'list' object has no attribute 'val'"
     ]
    }
   ],
   "source": [
    "lis_1.val < lis_2.val"
   ]
  },
  {
   "cell_type": "code",
   "execution_count": 39,
   "id": "3a786e18",
   "metadata": {},
   "outputs": [
    {
     "data": {
      "text/plain": [
       "'The maximum return is 23 from position 3 and 26.'"
      ]
     },
     "execution_count": 39,
     "metadata": {},
     "output_type": "execute_result"
    }
   ],
   "source": [
    "calculate_best_return(randomlist)"
   ]
  },
  {
   "cell_type": "code",
   "execution_count": 33,
   "id": "5e13a945",
   "metadata": {},
   "outputs": [],
   "source": [
    "lis = [1, 2]"
   ]
  },
  {
   "cell_type": "code",
   "execution_count": 21,
   "id": "667e9ef6",
   "metadata": {},
   "outputs": [],
   "source": [
    "lis = [10, 5, 60, 3, 6, 9, 20, 50]"
   ]
  },
  {
   "cell_type": "code",
   "execution_count": 38,
   "id": "114e55b7",
   "metadata": {},
   "outputs": [
    {
     "data": {
      "text/plain": [
       "'The maximum return is 1 from position 1 and 2.'"
      ]
     },
     "execution_count": 38,
     "metadata": {},
     "output_type": "execute_result"
    }
   ],
   "source": [
    "calculate_best_return(lis)"
   ]
  },
  {
   "cell_type": "code",
   "execution_count": 40,
   "id": "b40e48f7",
   "metadata": {},
   "outputs": [],
   "source": [
    "def calculate_best_return(lis):\n",
    "    if len(lis) < 2:\n",
    "        return 0\n",
    "    else:\n",
    "        lis_final = [0]\n",
    "        a, b = 1, 2\n",
    "        for idx, i in enumerate(lis):\n",
    "            for j in lis[idx+1:]:\n",
    "                if j-i > max(lis_final) :\n",
    "                    a,b = i,j\n",
    "                lis_final.append(j-i)\n",
    "        if max(lis_final) > 0:\n",
    "            return (\"The maximum return is {} from number {} and {}.\".format(max(lis_final), a, b))\n",
    "        else:\n",
    "            return 0"
   ]
  },
  {
   "cell_type": "code",
   "execution_count": 50,
   "id": "4ca60013",
   "metadata": {},
   "outputs": [],
   "source": [
    "class Solution:\n",
    "    def mergeTwoLists(self, list1, list2):\n",
    "        curr = merged_list_sentinel = ListNode(-1)\n",
    "        \n",
    "        while list1 and list2:\n",
    "            if list1.val < list2.val:\n",
    "                curr.next = list1\n",
    "                list1 = list1.next\n",
    "            else:\n",
    "                curr.next = list2\n",
    "                list2 = list2.next\n",
    "            curr = curr.next\n",
    "        \n",
    "        curr.next = list1 or list2\n",
    "        \n",
    "        return merged_list_sentinel.next"
   ]
  },
  {
   "cell_type": "code",
   "execution_count": 20,
   "id": "d16da256",
   "metadata": {},
   "outputs": [],
   "source": [
    "    def moveZeroes( nums):\n",
    "        \"\"\"\n",
    "        Do not return anything, modify nums in-place instead.\n",
    "        \"\"\"\n",
    "        for i in range(len(nums)):\n",
    "            if (nums[i] == 0) & (i < len(nums)):\n",
    "                \n",
    "                for j in range(i, len(nums)-1):\n",
    "                    a = nums[j]\n",
    "                    nums[j] = nums[j+1]\n",
    "                    nums[j+1] = a\n",
    "#                     nums[j], nums[j+1] = nums[j+1], nums[j]"
   ]
  },
  {
   "cell_type": "code",
   "execution_count": 24,
   "id": "d380b525",
   "metadata": {},
   "outputs": [],
   "source": [
    "lis = [0,1,0,0,1,2,3,4,0]"
   ]
  },
  {
   "cell_type": "code",
   "execution_count": 25,
   "id": "678ff6ef",
   "metadata": {},
   "outputs": [],
   "source": [
    "moveZeroes(lis)"
   ]
  },
  {
   "cell_type": "code",
   "execution_count": 26,
   "id": "7249f73f",
   "metadata": {},
   "outputs": [
    {
     "data": {
      "text/plain": [
       "[1, 0, 1, 2, 3, 4, 0, 0, 0]"
      ]
     },
     "execution_count": 26,
     "metadata": {},
     "output_type": "execute_result"
    }
   ],
   "source": [
    "lis"
   ]
  },
  {
   "cell_type": "code",
   "execution_count": null,
   "id": "22b65871",
   "metadata": {},
   "outputs": [],
   "source": []
  }
 ],
 "metadata": {
  "kernelspec": {
   "display_name": "Python 3",
   "language": "python",
   "name": "python3"
  },
  "language_info": {
   "codemirror_mode": {
    "name": "ipython",
    "version": 3
   },
   "file_extension": ".py",
   "mimetype": "text/x-python",
   "name": "python",
   "nbconvert_exporter": "python",
   "pygments_lexer": "ipython3",
   "version": "3.8.8"
  }
 },
 "nbformat": 4,
 "nbformat_minor": 5
}
